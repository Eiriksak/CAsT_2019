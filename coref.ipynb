{
 "cells": [
  {
   "cell_type": "code",
   "execution_count": 2,
   "metadata": {},
   "outputs": [],
   "source": [
    "import spacy\n",
    "import neuralcoref\n",
    "import en_core_web_sm"
   ]
  },
  {
   "cell_type": "code",
   "execution_count": 10,
   "metadata": {},
   "outputs": [
    {
     "name": "stdout",
     "output_type": "stream",
     "text": [
      "Collecting https://github.com/explosion/spacy-models/releases/download/en_core_web_sm-2.1.0/en_core_web_sm-2.1.0.tar.gz\n",
      "  Downloading https://github.com/explosion/spacy-models/releases/download/en_core_web_sm-2.1.0/en_core_web_sm-2.1.0.tar.gz (11.1 MB)\n",
      "Requirement already satisfied: spacy>=2.1.0 in c:\\users\\bjart\\appdata\\local\\programs\\python\\python37\\lib\\site-packages (from en-core-web-sm==2.1.0) (2.1.0)\n",
      "Requirement already satisfied: numpy>=1.15.0 in c:\\users\\bjart\\appdata\\local\\programs\\python\\python37\\lib\\site-packages (from spacy>=2.1.0->en-core-web-sm==2.1.0) (1.19.1)\n",
      "Requirement already satisfied: cymem<2.1.0,>=2.0.2 in c:\\users\\bjart\\appdata\\local\\programs\\python\\python37\\lib\\site-packages (from spacy>=2.1.0->en-core-web-sm==2.1.0) (2.0.4)\n",
      "Collecting preshed<2.1.0,>=2.0.1\n",
      "  Using cached preshed-2.0.1-cp37-cp37m-win_amd64.whl (73 kB)\n",
      "Requirement already satisfied: murmurhash<1.1.0,>=0.28.0 in c:\\users\\bjart\\appdata\\local\\programs\\python\\python37\\lib\\site-packages (from spacy>=2.1.0->en-core-web-sm==2.1.0) (1.0.4)\n",
      "Requirement already satisfied: plac<1.0.0,>=0.9.6 in c:\\users\\bjart\\appdata\\local\\programs\\python\\python37\\lib\\site-packages (from spacy>=2.1.0->en-core-web-sm==2.1.0) (0.9.6)\n",
      "Requirement already satisfied: thinc<7.1.0,>=7.0.2 in c:\\users\\bjart\\appdata\\local\\programs\\python\\python37\\lib\\site-packages (from spacy>=2.1.0->en-core-web-sm==2.1.0) (7.0.8)\n",
      "Requirement already satisfied: requests<3.0.0,>=2.13.0 in c:\\users\\bjart\\appdata\\local\\programs\\python\\python37\\lib\\site-packages (from spacy>=2.1.0->en-core-web-sm==2.1.0) (2.24.0)\n",
      "Requirement already satisfied: jsonschema<3.0.0,>=2.6.0 in c:\\users\\bjart\\appdata\\local\\programs\\python\\python37\\lib\\site-packages (from spacy>=2.1.0->en-core-web-sm==2.1.0) (2.6.0)\n",
      "Collecting blis<0.3.0,>=0.2.2\n",
      "  Using cached blis-0.2.4-cp37-cp37m-win_amd64.whl (3.1 MB)\n",
      "Requirement already satisfied: wasabi<1.1.0,>=0.0.12 in c:\\users\\bjart\\appdata\\local\\programs\\python\\python37\\lib\\site-packages (from spacy>=2.1.0->en-core-web-sm==2.1.0) (0.8.0)\n",
      "Requirement already satisfied: srsly<1.1.0,>=0.0.5 in c:\\users\\bjart\\appdata\\local\\programs\\python\\python37\\lib\\site-packages (from spacy>=2.1.0->en-core-web-sm==2.1.0) (1.0.3)\n",
      "Requirement already satisfied: tqdm<5.0.0,>=4.10.0 in c:\\users\\bjart\\appdata\\local\\programs\\python\\python37\\lib\\site-packages (from thinc<7.1.0,>=7.0.2->spacy>=2.1.0->en-core-web-sm==2.1.0) (4.49.0)\n",
      "Requirement already satisfied: idna<3,>=2.5 in c:\\users\\bjart\\appdata\\local\\programs\\python\\python37\\lib\\site-packages (from requests<3.0.0,>=2.13.0->spacy>=2.1.0->en-core-web-sm==2.1.0) (2.10)\n",
      "Requirement already satisfied: urllib3!=1.25.0,!=1.25.1,<1.26,>=1.21.1 in c:\\users\\bjart\\appdata\\local\\programs\\python\\python37\\lib\\site-packages (from requests<3.0.0,>=2.13.0->spacy>=2.1.0->en-core-web-sm==2.1.0) (1.25.9)\n",
      "Requirement already satisfied: chardet<4,>=3.0.2 in c:\\users\\bjart\\appdata\\local\\programs\\python\\python37\\lib\\site-packages (from requests<3.0.0,>=2.13.0->spacy>=2.1.0->en-core-web-sm==2.1.0) (3.0.4)\n",
      "Requirement already satisfied: certifi>=2017.4.17 in c:\\users\\bjart\\appdata\\local\\programs\\python\\python37\\lib\\site-packages (from requests<3.0.0,>=2.13.0->spacy>=2.1.0->en-core-web-sm==2.1.0) (2020.6.20)\n",
      "Using legacy 'setup.py install' for en-core-web-sm, since package 'wheel' is not installed.\n",
      "Installing collected packages: en-core-web-sm, preshed, blis\n",
      "  Attempting uninstall: en-core-web-sm\n",
      "    Found existing installation: en-core-web-sm 2.3.1\n",
      "    Uninstalling en-core-web-sm-2.3.1:\n",
      "      Successfully uninstalled en-core-web-sm-2.3.1\n",
      "    Running setup.py install for en-core-web-sm: started\n",
      "    Running setup.py install for en-core-web-sm: finished with status 'done'\n",
      "  Attempting uninstall: preshed\n",
      "    Found existing installation: preshed 3.0.4\n",
      "    Uninstalling preshed-3.0.4:\n",
      "      Successfully uninstalled preshed-3.0.4\n",
      "  Attempting uninstall: blis\n",
      "    Found existing installation: blis 0.4.1\n"
     ]
    },
    {
     "name": "stderr",
     "output_type": "stream",
     "text": [
      "WARNING: You are using pip version 20.2.3; however, version 20.2.4 is available.\n",
      "You should consider upgrading via the 'c:\\users\\bjart\\appdata\\local\\programs\\python\\python37\\python.exe -m pip install --upgrade pip' command.\n"
     ]
    },
    {
     "name": "stdout",
     "output_type": "stream",
     "text": [
      "    Uninstalling blis-0.4.1:\n",
      "      Successfully uninstalled blis-0.4.1\n",
      "Successfully installed blis-0.2.4 en-core-web-sm-2.1.0 preshed-2.0.1\n"
     ]
    }
   ],
   "source": [
    "# !pip3 install https://github.com/explosion/spacy-models/releases/download/en_core_web_sm-2.1.0/en_core_web_sm-2.1.0.tar.gz\n",
    "# !pip install spacy==2.1.0"
   ]
  },
  {
   "cell_type": "code",
   "execution_count": 19,
   "metadata": {},
   "outputs": [
    {
     "name": "stdout",
     "output_type": "stream",
     "text": [
      "[throat cancer: [throat cancer, it]]\n"
     ]
    }
   ],
   "source": [
    "# nlp = spacy.load('en_core_web_sm')\n",
    "nlp = en_core_web_sm.load()\n",
    "neuralcoref.add_to_pipe(nlp)\n",
    "# doc1 = nlp('My sister has a Sdog. She loves him.')\n",
    "doc1 = nlp('What is throat cancer? \\n Is it treatable?')\n",
    "print(doc1._.coref_clusters)\n",
    "\n",
    "doc2 = nlp('Angela lives in Boston. She is quite happy in that city.')\n",
    "for ent in doc2.ents:\n",
    "    print(ent._.coref_cluster)"
   ]
  }
 ],
 "metadata": {
  "kernelspec": {
   "display_name": "Python 3",
   "language": "python",
   "name": "python3"
  },
  "language_info": {
   "codemirror_mode": {
    "name": "ipython",
    "version": 3
   },
   "file_extension": ".py",
   "mimetype": "text/x-python",
   "name": "python",
   "nbconvert_exporter": "python",
   "pygments_lexer": "ipython3",
   "version": "3.7.8"
  }
 },
 "nbformat": 4,
 "nbformat_minor": 4
}
