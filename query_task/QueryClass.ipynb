{
 "cells": [
  {
   "cell_type": "code",
   "execution_count": 1,
   "metadata": {},
   "outputs": [],
   "source": [
    "from abc import ABC, abstractmethod"
   ]
  },
  {
   "cell_type": "markdown",
   "metadata": {},
   "source": [
    "## Abstract query expander class\n",
    "All query models will inherit this class. The class stores previous conversation history for each topic, which may be useful for many query models. The class method get_query will be called in evaluation scripts. All query models must inherit the generated_query method, which is called within the get_query method"
   ]
  },
  {
   "cell_type": "code",
   "execution_count": 2,
   "metadata": {},
   "outputs": [],
   "source": [
    "class QueryExpander(ABC):\n",
    "    \n",
    "    def __init__(self):\n",
    "        self.question_history = {}\n",
    "        self.query_history = {}\n",
    "        \n",
    "    def get_query(self, query, depth, topic_num):        \n",
    "        generated_query = self.generate_query(query, depth, topic_num)\n",
    "        \n",
    "        if topic_num not in self.question_history:\n",
    "            self.question_history[topic_num] = []\n",
    "            self.query_history = []\n",
    "        self.question_history[topic_num].append(query)\n",
    "        self.query_history.append(generated_query)\n",
    "        return generated_query\n",
    "        \n",
    "    @abstractmethod\n",
    "    def generate_query(self, query, depth, topic_num):\n",
    "        pass"
   ]
  },
  {
   "cell_type": "markdown",
   "metadata": {},
   "source": [
    "## Example class\n",
    "ExampleQuery is an example class that inherits the QueryExpander class and generate_query method. The class will print all available topic data each time it \"generates\" a new query (previous questions and generated queries)"
   ]
  },
  {
   "cell_type": "code",
   "execution_count": 3,
   "metadata": {},
   "outputs": [],
   "source": [
    "class ExampleQuery(QueryExpander):\n",
    "    \n",
    "    def __init__(self):\n",
    "        super().__init__()\n",
    "        \n",
    "    def generate_query(self, query, depth, topic_num):\n",
    "        print(f'query: {query}\\ndepth: {depth}\\ntopic_num: {topic_num}')\n",
    "        print(\"Question history \", self.question_history)\n",
    "        print(\"Query history \", self.query_history)\n",
    "        return f'generated query topic {topic_num} depth {depth}' "
   ]
  },
  {
   "cell_type": "code",
   "execution_count": 4,
   "metadata": {},
   "outputs": [],
   "source": [
    "qe = ExampleQuery()"
   ]
  },
  {
   "cell_type": "markdown",
   "metadata": {},
   "source": [
    "#### First question within the first topic\n",
    "There is no available information from previous questions as this is the first one"
   ]
  },
  {
   "cell_type": "code",
   "execution_count": 5,
   "metadata": {},
   "outputs": [
    {
     "name": "stdout",
     "output_type": "stream",
     "text": [
      "query: Do you have any Nike shoes here?\n",
      "depth: 1\n",
      "topic_num: 1\n",
      "Question history  {}\n",
      "Query history  {}\n"
     ]
    },
    {
     "data": {
      "text/plain": [
       "'generated query topic 1 depth 1'"
      ]
     },
     "execution_count": 5,
     "metadata": {},
     "output_type": "execute_result"
    }
   ],
   "source": [
    "qe.get_query('Do you have any Nike shoes here?', depth=1, topic_num=1)"
   ]
  },
  {
   "cell_type": "markdown",
   "metadata": {},
   "source": [
    "#### Second question within the first topic\n",
    "We can now access and utilize the first question when generating this query"
   ]
  },
  {
   "cell_type": "code",
   "execution_count": 6,
   "metadata": {},
   "outputs": [
    {
     "name": "stdout",
     "output_type": "stream",
     "text": [
      "query: What colors are they in\n",
      "depth: 2\n",
      "topic_num: 1\n",
      "Question history  {1: ['Do you have any Nike shoes here?']}\n",
      "Query history  ['generated query topic 1 depth 1']\n"
     ]
    },
    {
     "data": {
      "text/plain": [
       "'generated query topic 1 depth 2'"
      ]
     },
     "execution_count": 6,
     "metadata": {},
     "output_type": "execute_result"
    }
   ],
   "source": [
    "qe.get_query('What colors are they in', depth=2, topic_num=1)"
   ]
  },
  {
   "cell_type": "markdown",
   "metadata": {},
   "source": [
    "#### First question within the second topic\n",
    "There is no available information from previous questions within this topic (2). The entire conversation in topic 1 is still available, but that is not useful when a topic is changed"
   ]
  },
  {
   "cell_type": "code",
   "execution_count": 7,
   "metadata": {},
   "outputs": [
    {
     "name": "stdout",
     "output_type": "stream",
     "text": [
      "query: What is the capital of Spain?\n",
      "depth: 1\n",
      "topic_num: 2\n",
      "Question history  {1: ['Do you have any Nike shoes here?', 'What colors are they in']}\n",
      "Query history  ['generated query topic 1 depth 1', 'generated query topic 1 depth 2']\n"
     ]
    },
    {
     "data": {
      "text/plain": [
       "'generated query topic 2 depth 1'"
      ]
     },
     "execution_count": 7,
     "metadata": {},
     "output_type": "execute_result"
    }
   ],
   "source": [
    "qe.get_query('What is the capital of Spain?', depth=1, topic_num=2)"
   ]
  },
  {
   "cell_type": "markdown",
   "metadata": {},
   "source": [
    "#### Second question within the second topic\n",
    "We can now access the first question from topic 2 to generate the second query "
   ]
  },
  {
   "cell_type": "code",
   "execution_count": 8,
   "metadata": {},
   "outputs": [
    {
     "name": "stdout",
     "output_type": "stream",
     "text": [
      "query: How many people live there?\n",
      "depth: 2\n",
      "topic_num: 2\n",
      "Question history  {1: ['Do you have any Nike shoes here?', 'What colors are they in'], 2: ['What is the capital of Spain?']}\n",
      "Query history  ['generated query topic 2 depth 1']\n"
     ]
    },
    {
     "data": {
      "text/plain": [
       "'generated query topic 2 depth 2'"
      ]
     },
     "execution_count": 8,
     "metadata": {},
     "output_type": "execute_result"
    }
   ],
   "source": [
    "qe.get_query('How many people live there?', depth=2, topic_num=2)"
   ]
  }
 ],
 "metadata": {
  "kernelspec": {
   "display_name": "Python 3",
   "language": "python",
   "name": "python3"
  },
  "language_info": {
   "codemirror_mode": {
    "name": "ipython",
    "version": 3
   },
   "file_extension": ".py",
   "mimetype": "text/x-python",
   "name": "python",
   "nbconvert_exporter": "python",
   "pygments_lexer": "ipython3",
   "version": "3.7.7"
  }
 },
 "nbformat": 4,
 "nbformat_minor": 4
}
